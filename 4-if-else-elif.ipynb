{
 "cells": [
  {
   "cell_type": "markdown",
   "id": "9d3d3f05",
   "metadata": {},
   "source": [
    "## Programı Dallandırma (Branching)\n",
    "- Karşılaştırmalar ile True veya False gelen ifadelere göre programımızı dallandırabiliriz.\n",
    "\n",
    "### if:\n",
    "- Eğer gelen ifade True değerini veriyorsa **if** bloğu içindeki kodlar çalışır.\n",
    "- İfadeler if bloğu içine bir girinti ile yazılır.\n",
    "\n",
    "### elif:\n",
    "- Eğer if'den gelen ifade False ise hemen döngüyü sonlandırmak istemiyor ve başka parametrelere bakmak istiyor olabiliriz. Bunun için elif komutu kullanılır.\n",
    "\n",
    "### else:\n",
    "- if ve else'den gelen kavramlar haricinde bir olgu için son olarak else döndürülür."
   ]
  },
  {
   "cell_type": "code",
   "execution_count": 1,
   "id": "d6374782",
   "metadata": {},
   "outputs": [
    {
     "name": "stdout",
     "output_type": "stream",
     "text": [
      "Bir sayı giriniz: 10\n",
      "Sayı 10'a eşittir\n",
      "Programınız sona ulaştı!\n"
     ]
    }
   ],
   "source": [
    "x = int(input('Bir sayı giriniz: '))\n",
    "\n",
    "if x < 10:\n",
    "    print(\"Sayı 10'dan küçüktür\")\n",
    "    \n",
    "elif x == 10:\n",
    "    print(\"Sayı 10'a eşittir\")\n",
    "    \n",
    "else:\n",
    "    print(\"Sayı 10'dan büyüktür\")\n",
    "    \n",
    "print('Programınız sona ulaştı!')"
   ]
  },
  {
   "cell_type": "markdown",
   "id": "e1392f18",
   "metadata": {},
   "source": [
    "### nested (iç içe) if:\n",
    "- if komutları da normal kod satırlarından başka bir şey olmadığından if içinde başka if ifadelerine iç içe yer verebiliriz."
   ]
  },
  {
   "cell_type": "code",
   "execution_count": 2,
   "id": "47079e6d",
   "metadata": {},
   "outputs": [
    {
     "name": "stdout",
     "output_type": "stream",
     "text": [
      "Bir sayı giriniz: 6\n",
      "Sayı hem 2'ye hem de 3'e tam bölünüyor\n"
     ]
    }
   ],
   "source": [
    "x = int(input('Bir sayı giriniz: '))\n",
    "\n",
    "if x % 3 == 0:\n",
    "    if x % 2 == 0:\n",
    "        print(\"Sayı hem 2'ye hem de 3'e tam bölünüyor\")\n",
    "    else:\n",
    "        print(\"Sayı 3'e tam bölünüyor, 2'ye tam bölünmüyor\")\n",
    "else:\n",
    "    print(\"Sayı 3'e bölünmüyor\")"
   ]
  },
  {
   "cell_type": "markdown",
   "id": "d4c0f71a",
   "metadata": {},
   "source": [
    "### Test olarak mantıksal operatörler de kullanılabilir:"
   ]
  },
  {
   "cell_type": "code",
   "execution_count": 4,
   "id": "b5110593",
   "metadata": {},
   "outputs": [
    {
     "name": "stdout",
     "output_type": "stream",
     "text": [
      "Bir sayı giriniz: 10\n",
      "Programınız sona ulaştı\n"
     ]
    }
   ],
   "source": [
    "y = int(input(\"Bir sayı giriniz: \"))\n",
    "\n",
    "if (y % 3 == 0) and (y % 2) == 0:\n",
    "    print(\"Sayı hem 2'ye hem de 3'e tam bölünüyor\")\n",
    "\n",
    "print(\"Programınız sona ulaştı\")"
   ]
  }
 ],
 "metadata": {
  "kernelspec": {
   "display_name": "Python 3 (ipykernel)",
   "language": "python",
   "name": "python3"
  },
  "language_info": {
   "codemirror_mode": {
    "name": "ipython",
    "version": 3
   },
   "file_extension": ".py",
   "mimetype": "text/x-python",
   "name": "python",
   "nbconvert_exporter": "python",
   "pygments_lexer": "ipython3",
   "version": "3.11.5"
  }
 },
 "nbformat": 4,
 "nbformat_minor": 5
}
