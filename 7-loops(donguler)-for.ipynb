{
 "cells": [
  {
   "cell_type": "markdown",
   "id": "e291fafc",
   "metadata": {},
   "source": [
    "## for\n",
    "- for döngüsü bir obje içindeki elemanların her birini bir değişkene atayarak eleman sayısı kadar döngüyü devam ettirir."
   ]
  },
  {
   "cell_type": "code",
   "execution_count": 1,
   "id": "e1a88a17",
   "metadata": {},
   "outputs": [
    {
     "name": "stdout",
     "output_type": "stream",
     "text": [
      "h\n",
      "e\n",
      "y\n"
     ]
    }
   ],
   "source": [
    "for c in \"hey\":\n",
    "    print(c)"
   ]
  },
  {
   "cell_type": "code",
   "execution_count": 4,
   "id": "248e42cf",
   "metadata": {},
   "outputs": [
    {
     "name": "stdout",
     "output_type": "stream",
     "text": [
      "5050\n"
     ]
    }
   ],
   "source": [
    "toplam = 0\n",
    "\n",
    "# range(start, stop, step) şeklinde sayı oluşturan fonksiyondur.\n",
    "# range default olarak 0'dan başlar\n",
    "# stop sayısını dahil etmez.\n",
    "\n",
    "for x in range(101): # 0'dan 100'e kadar olan sayıları oluşturur.\n",
    "    toplam += x\n",
    "\n",
    "print(toplam)"
   ]
  },
  {
   "cell_type": "markdown",
   "id": "86fd8fec",
   "metadata": {},
   "source": [
    "- for döngüsünde değişkene atadığımız değeri illa ki kullanmak zorunda değiliz.\n",
    "- önemli olan for döngüsünü kaç kere döndürmek istediğimiz olabilir.\n",
    "- kullanmayacağımız değişkeni genellikle alt çizgi ile gösteririz. Bu bir ortak ağızdır.\n",
    "\n",
    "- örnek olarak üs alma işlemi yapabiliriz:"
   ]
  },
  {
   "cell_type": "code",
   "execution_count": 9,
   "id": "40b50889",
   "metadata": {},
   "outputs": [
    {
     "name": "stdout",
     "output_type": "stream",
     "text": [
      "8\n"
     ]
    }
   ],
   "source": [
    "us = 1\n",
    "\n",
    "for _ in range(3): # 2^3 ifadesine denk gelir.\n",
    "    us *= 2\n",
    "\n",
    "print(us)"
   ]
  },
  {
   "cell_type": "markdown",
   "id": "c45d33bf",
   "metadata": {},
   "source": [
    "## while vs for:\n",
    "- while döngülerinde kaç kere iterasyon (döngü) yapılacağı belirsizdir. (break veya continue ile bölünmezse)\n",
    "- for döngülerinde kaç eleman varsa o kadar iterasyon olur."
   ]
  }
 ],
 "metadata": {
  "kernelspec": {
   "display_name": "Python 3 (ipykernel)",
   "language": "python",
   "name": "python3"
  },
  "language_info": {
   "codemirror_mode": {
    "name": "ipython",
    "version": 3
   },
   "file_extension": ".py",
   "mimetype": "text/x-python",
   "name": "python",
   "nbconvert_exporter": "python",
   "pygments_lexer": "ipython3",
   "version": "3.11.5"
  }
 },
 "nbformat": 4,
 "nbformat_minor": 5
}
