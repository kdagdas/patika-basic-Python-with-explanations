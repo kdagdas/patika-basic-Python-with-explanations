{
 "cells": [
  {
   "cell_type": "markdown",
   "id": "d152ca78",
   "metadata": {},
   "source": [
    "## Görev 1\n",
    "\n",
    "Bir listeyi düzleştiren (flatten) fonksiyon yazın. Elemanları birden çok katmanlı listelerden ([[3],2] gibi) oluşabileceği gibi, non-scalar verilerden de oluşabilir."
   ]
  },
  {
   "cell_type": "code",
   "execution_count": 2,
   "id": "b9776d0d",
   "metadata": {},
   "outputs": [
    {
     "name": "stdout",
     "output_type": "stream",
     "text": [
      "[1, 'a', 'cat', 2, 3, 'dog', 4, 5]\n"
     ]
    }
   ],
   "source": [
    "l = [[1, 'a', ['cat'], 2], [[[3]], 'dog'], 4, 5]\n",
    "l2 = []\n",
    "\n",
    "def flatten(l):\n",
    "    \n",
    "    for e in l:\n",
    "        if type(e) == list:\n",
    "            flatten(e)\n",
    "        else:\n",
    "            l2.append(e)\n",
    "\n",
    "flatten(l)\n",
    "print(l2)"
   ]
  },
  {
   "cell_type": "markdown",
   "id": "ba0efddd",
   "metadata": {},
   "source": [
    "## Görev 2\n",
    "Verilen listenin içindeki elemanları tersine döndüren bir fonksiyon yazın. Eğer listenin içindeki elemanlar da liste içeriyorsa onların elemanlarını da tersine döndürün."
   ]
  },
  {
   "cell_type": "code",
   "execution_count": 13,
   "id": "7bc3e6c7",
   "metadata": {},
   "outputs": [],
   "source": [
    "l = [[1, 2], [3, 4], [5, 6, 7]]\n",
    "\n",
    "def reversed_list(l):\n",
    "    for i in l:\n",
    "        i.reverse()\n",
    "    l.reverse()"
   ]
  },
  {
   "cell_type": "code",
   "execution_count": 14,
   "id": "45c7113b",
   "metadata": {},
   "outputs": [
    {
     "data": {
      "text/plain": [
       "[[1, 2], [3, 4], [5, 6, 7]]"
      ]
     },
     "execution_count": 14,
     "metadata": {},
     "output_type": "execute_result"
    }
   ],
   "source": [
    "l"
   ]
  },
  {
   "cell_type": "code",
   "execution_count": 15,
   "id": "07283efd",
   "metadata": {},
   "outputs": [],
   "source": [
    "reversed_list(l)"
   ]
  },
  {
   "cell_type": "code",
   "execution_count": null,
   "id": "8266ce09",
   "metadata": {},
   "outputs": [],
   "source": []
  }
 ],
 "metadata": {
  "kernelspec": {
   "display_name": "Python 3 (ipykernel)",
   "language": "python",
   "name": "python3"
  },
  "language_info": {
   "codemirror_mode": {
    "name": "ipython",
    "version": 3
   },
   "file_extension": ".py",
   "mimetype": "text/x-python",
   "name": "python",
   "nbconvert_exporter": "python",
   "pygments_lexer": "ipython3",
   "version": "3.11.5"
  }
 },
 "nbformat": 4,
 "nbformat_minor": 5
}
