{
 "cells": [
  {
   "cell_type": "markdown",
   "id": "02d013cc",
   "metadata": {},
   "source": [
    "## Logical Operator (Mantıksal Operatörler)\n",
    "* boolean veri tipleri ile işlem yaparken birden fazla koşula bakıyor olabilirim.\n",
    "* Verileri karşılaştırma yaptıktan sonra bunların cevaplarını birleştirebilir veya iki ifadeden de aynı sonuçları bekleyebiliriz.\n",
    "* Bu tür durumlarda mantıksal operatörleri kullanırız.\n",
    "\n",
    "#### not: yanına geldiği boolean veriyi tersine çevirir."
   ]
  },
  {
   "cell_type": "code",
   "execution_count": 1,
   "id": "76be26ae",
   "metadata": {},
   "outputs": [
    {
     "data": {
      "text/plain": [
       "False"
      ]
     },
     "execution_count": 1,
     "metadata": {},
     "output_type": "execute_result"
    }
   ],
   "source": [
    "not True"
   ]
  },
  {
   "cell_type": "code",
   "execution_count": 2,
   "id": "183f9ac4",
   "metadata": {},
   "outputs": [
    {
     "data": {
      "text/plain": [
       "True"
      ]
     },
     "execution_count": 2,
     "metadata": {},
     "output_type": "execute_result"
    }
   ],
   "source": [
    "not False"
   ]
  },
  {
   "cell_type": "code",
   "execution_count": 3,
   "id": "4c5eb0e4",
   "metadata": {},
   "outputs": [
    {
     "data": {
      "text/plain": [
       "False"
      ]
     },
     "execution_count": 3,
     "metadata": {},
     "output_type": "execute_result"
    }
   ],
   "source": [
    "not 5 < 6"
   ]
  },
  {
   "cell_type": "code",
   "execution_count": 4,
   "id": "a6d62c8e",
   "metadata": {},
   "outputs": [
    {
     "data": {
      "text/plain": [
       "False"
      ]
     },
     "execution_count": 4,
     "metadata": {},
     "output_type": "execute_result"
    }
   ],
   "source": [
    "not 5 == 5"
   ]
  },
  {
   "cell_type": "code",
   "execution_count": 5,
   "id": "abd4c9e1",
   "metadata": {},
   "outputs": [
    {
     "data": {
      "text/plain": [
       "False"
      ]
     },
     "execution_count": 5,
     "metadata": {},
     "output_type": "execute_result"
    }
   ],
   "source": [
    "a = 4\n",
    "b = 10\n",
    "not a < b"
   ]
  },
  {
   "cell_type": "markdown",
   "id": "a1561e52",
   "metadata": {},
   "source": [
    "#### and\n",
    "* İki veya daha fazla ifade True olana kadar False çıktısı verir. "
   ]
  },
  {
   "cell_type": "code",
   "execution_count": 6,
   "id": "204624f9",
   "metadata": {},
   "outputs": [
    {
     "data": {
      "text/plain": [
       "False"
      ]
     },
     "execution_count": 6,
     "metadata": {},
     "output_type": "execute_result"
    }
   ],
   "source": [
    "True and True and False"
   ]
  },
  {
   "cell_type": "code",
   "execution_count": 7,
   "id": "cf92fd5e",
   "metadata": {},
   "outputs": [],
   "source": [
    "a = 4\n",
    "b = 10\n",
    "c = 20"
   ]
  },
  {
   "cell_type": "code",
   "execution_count": 8,
   "id": "1d0df931",
   "metadata": {},
   "outputs": [
    {
     "data": {
      "text/plain": [
       "True"
      ]
     },
     "execution_count": 8,
     "metadata": {},
     "output_type": "execute_result"
    }
   ],
   "source": [
    "(a<b) and (b<c)"
   ]
  },
  {
   "cell_type": "markdown",
   "id": "ffa90d81",
   "metadata": {},
   "source": [
    "#### or\n",
    "* İki veya daha fazla ifadeden herhangi birinin True olması halidne True çıktı verir. "
   ]
  }
 ],
 "metadata": {
  "kernelspec": {
   "display_name": "Python 3 (ipykernel)",
   "language": "python",
   "name": "python3"
  },
  "language_info": {
   "codemirror_mode": {
    "name": "ipython",
    "version": 3
   },
   "file_extension": ".py",
   "mimetype": "text/x-python",
   "name": "python",
   "nbconvert_exporter": "python",
   "pygments_lexer": "ipython3",
   "version": "3.11.5"
  }
 },
 "nbformat": 4,
 "nbformat_minor": 5
}
