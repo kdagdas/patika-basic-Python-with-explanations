{
 "cells": [
  {
   "cell_type": "markdown",
   "id": "97580e54",
   "metadata": {},
   "source": [
    "## Ternary Conditionals\n",
    "- yes / no soruları gibidir. \n",
    "- Kullanıcıdan bir cevap seçmesi istenir ve buna karşılık kod satırları ona göre çalıştırılır. \n",
    "- if - else bloğu kullanılır.\n",
    "- if - else mantığını tek satırda kullanıp döndürebilmemizi sağlar."
   ]
  },
  {
   "cell_type": "code",
   "execution_count": 2,
   "id": "2e868339",
   "metadata": {},
   "outputs": [
    {
     "name": "stdout",
     "output_type": "stream",
     "text": [
      "x'in değeri 2 olsun mu=? y/n:y\n",
      "2\n"
     ]
    }
   ],
   "source": [
    "# cevap olarak \"y\" (yes (evet)), \"n\" (no (hayır))'ı kast edecek.\n",
    "cevap = input(\"x'in değeri 2 olsun mu=? y/n:\")\n",
    "\n",
    "if cevap == \"y\": # cevap == \"y\" testimiz oluyor.\n",
    "    x = 2\n",
    "else:\n",
    "    x = 0\n",
    "    \n",
    "print(x)"
   ]
  },
  {
   "cell_type": "markdown",
   "id": "a035d3c0",
   "metadata": {},
   "source": [
    "* Aynısını tek satır içinde yapabiliriz."
   ]
  },
  {
   "cell_type": "code",
   "execution_count": 6,
   "id": "157e6b7f",
   "metadata": {},
   "outputs": [
    {
     "name": "stdout",
     "output_type": "stream",
     "text": [
      "x'in değeri 2 olsun mu? (y/n)y\n",
      "2\n"
     ]
    }
   ],
   "source": [
    "cevap = input(\"x'in değeri 2 olsun mu? (y/n)\")\n",
    "x = 2 if cevap == \"y\" else 0\n",
    "print(x)"
   ]
  }
 ],
 "metadata": {
  "kernelspec": {
   "display_name": "Python 3 (ipykernel)",
   "language": "python",
   "name": "python3"
  },
  "language_info": {
   "codemirror_mode": {
    "name": "ipython",
    "version": 3
   },
   "file_extension": ".py",
   "mimetype": "text/x-python",
   "name": "python",
   "nbconvert_exporter": "python",
   "pygments_lexer": "ipython3",
   "version": "3.11.5"
  }
 },
 "nbformat": 4,
 "nbformat_minor": 5
}
