{
 "cells": [
  {
   "cell_type": "markdown",
   "id": "70039d77",
   "metadata": {},
   "source": [
    "### Indeksing (Elemanlara Erişme)\n",
    "* Python'da indeksler 0 ile başlar\n",
    "* String ifadeler non-scalar veri tipleridir. Bu sayede bölünebilirler ve indekslenirler. \n",
    "* Bu indeksler ile birlikte str ifade içinden istediğimiz elemanı çağırabiliriz."
   ]
  },
  {
   "cell_type": "code",
   "execution_count": 1,
   "id": "c3a3dfaa",
   "metadata": {},
   "outputs": [],
   "source": [
    "isim = \"Deniz\""
   ]
  },
  {
   "cell_type": "code",
   "execution_count": 3,
   "id": "154bc004",
   "metadata": {},
   "outputs": [
    {
     "data": {
      "text/plain": [
       "'D'"
      ]
     },
     "execution_count": 3,
     "metadata": {},
     "output_type": "execute_result"
    }
   ],
   "source": [
    "isim[0]"
   ]
  },
  {
   "cell_type": "code",
   "execution_count": 4,
   "id": "a74897f7",
   "metadata": {},
   "outputs": [
    {
     "data": {
      "text/plain": [
       "'n'"
      ]
     },
     "execution_count": 4,
     "metadata": {},
     "output_type": "execute_result"
    }
   ],
   "source": [
    "\"Deniz\"[2]"
   ]
  },
  {
   "cell_type": "markdown",
   "id": "56bcc610",
   "metadata": {},
   "source": [
    "* Str ifadeler immutable yani elemanları değiştirilemez veri tipleridir"
   ]
  },
  {
   "cell_type": "code",
   "execution_count": 6,
   "id": "f825ae35",
   "metadata": {},
   "outputs": [
    {
     "ename": "TypeError",
     "evalue": "'str' object does not support item assignment",
     "output_type": "error",
     "traceback": [
      "\u001b[1;31m---------------------------------------------------------------------------\u001b[0m",
      "\u001b[1;31mTypeError\u001b[0m                                 Traceback (most recent call last)",
      "Cell \u001b[1;32mIn[6], line 1\u001b[0m\n\u001b[1;32m----> 1\u001b[0m isim[\u001b[38;5;241m2\u001b[39m] \u001b[38;5;241m=\u001b[39m \u001b[38;5;124m\"\u001b[39m\u001b[38;5;124mk\u001b[39m\u001b[38;5;124m\"\u001b[39m\n",
      "\u001b[1;31mTypeError\u001b[0m: 'str' object does not support item assignment"
     ]
    }
   ],
   "source": [
    "isim[2] = \"k\""
   ]
  },
  {
   "cell_type": "markdown",
   "id": "4676f3a2",
   "metadata": {},
   "source": [
    "### Slicing (Dilimleme)\n",
    "* Dilimleme yöntemi ile veri grubu içindeki belli elemanları çağırabiliriz.\n",
    "* Sondaki indekstedi elemanı çağırmaz.\n",
    "* Başı boş bırakılırsa en baştan alır, sonu boş bırakılırsa en sondaki elemanı da çağırır."
   ]
  },
  {
   "cell_type": "code",
   "execution_count": 7,
   "id": "af912201",
   "metadata": {},
   "outputs": [
    {
     "data": {
      "text/plain": [
       "'Den'"
      ]
     },
     "execution_count": 7,
     "metadata": {},
     "output_type": "execute_result"
    }
   ],
   "source": [
    "isim[:3]"
   ]
  },
  {
   "cell_type": "code",
   "execution_count": 8,
   "id": "b5748cd9",
   "metadata": {},
   "outputs": [
    {
     "data": {
      "text/plain": [
       "'niz'"
      ]
     },
     "execution_count": 8,
     "metadata": {},
     "output_type": "execute_result"
    }
   ],
   "source": [
    "isim[2:]"
   ]
  },
  {
   "cell_type": "code",
   "execution_count": 14,
   "id": "d7490552",
   "metadata": {
    "scrolled": true
   },
   "outputs": [
    {
     "data": {
      "text/plain": [
       "'Deniz'"
      ]
     },
     "execution_count": 14,
     "metadata": {},
     "output_type": "execute_result"
    }
   ],
   "source": [
    "isim[:]"
   ]
  },
  {
   "cell_type": "markdown",
   "id": "e8569d69",
   "metadata": {},
   "source": [
    "* Slicing işlemlerinde indekslemenin aksine eleman sayısından daha büyük bir indeks girildiğinde hata mesajı alınmaz. En sondaki elemana kadar tüm elemanlar çağırılır."
   ]
  },
  {
   "cell_type": "code",
   "execution_count": 15,
   "id": "c935729e",
   "metadata": {},
   "outputs": [
    {
     "data": {
      "text/plain": [
       "'Deniz'"
      ]
     },
     "execution_count": 15,
     "metadata": {},
     "output_type": "execute_result"
    }
   ],
   "source": [
    "isim[:10]"
   ]
  },
  {
   "cell_type": "markdown",
   "id": "157fcfec",
   "metadata": {},
   "source": [
    "* adım sayısı da eklenerek kaç adımda bir eleman çağırabileceğimizi seçebiliriz. (başlangıç:bitiş:adım)"
   ]
  },
  {
   "cell_type": "code",
   "execution_count": 10,
   "id": "87d8b301",
   "metadata": {},
   "outputs": [
    {
     "data": {
      "text/plain": [
       "'Dnz'"
      ]
     },
     "execution_count": 10,
     "metadata": {},
     "output_type": "execute_result"
    }
   ],
   "source": [
    "isim[::2]"
   ]
  },
  {
   "cell_type": "markdown",
   "id": "83c22785",
   "metadata": {},
   "source": [
    "* negativ adım sayıları ile geriye doğru da eleman çağırma yapılabilir"
   ]
  },
  {
   "cell_type": "code",
   "execution_count": 22,
   "id": "68b4f044",
   "metadata": {},
   "outputs": [
    {
     "data": {
      "text/plain": [
       "'zineD'"
      ]
     },
     "execution_count": 22,
     "metadata": {},
     "output_type": "execute_result"
    }
   ],
   "source": [
    "isim[10::-1]"
   ]
  }
 ],
 "metadata": {
  "kernelspec": {
   "display_name": "Python 3 (ipykernel)",
   "language": "python",
   "name": "python3"
  },
  "language_info": {
   "codemirror_mode": {
    "name": "ipython",
    "version": 3
   },
   "file_extension": ".py",
   "mimetype": "text/x-python",
   "name": "python",
   "nbconvert_exporter": "python",
   "pygments_lexer": "ipython3",
   "version": "3.11.5"
  }
 },
 "nbformat": 4,
 "nbformat_minor": 5
}
