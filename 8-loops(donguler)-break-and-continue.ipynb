{
 "cells": [
  {
   "cell_type": "markdown",
   "id": "3d67b679",
   "metadata": {},
   "source": [
    "## break\n",
    "- Bir şart sağlandığı zaman döngünün devam etmesini istemezsek kullanabiliriz.\n",
    "- Break komutundan sonra döngü durdurulur ve döngüden çıkılır."
   ]
  },
  {
   "cell_type": "code",
   "execution_count": 1,
   "id": "03dc6158",
   "metadata": {},
   "outputs": [
    {
     "name": "stdout",
     "output_type": "stream",
     "text": [
      "0\n",
      "1\n",
      "2\n"
     ]
    }
   ],
   "source": [
    "for i in range(10):\n",
    "    if i == 3: # i 3'e eşit olduğu zaman döngüden çık\n",
    "        break\n",
    "    print(i)"
   ]
  },
  {
   "cell_type": "code",
   "execution_count": 5,
   "id": "c25932f5",
   "metadata": {},
   "outputs": [
    {
     "name": "stdout",
     "output_type": "stream",
     "text": [
      "1\n",
      "2\n"
     ]
    }
   ],
   "source": [
    "x = 0\n",
    "while x < 10:\n",
    "    x += 1 # x'e 1 ekle (0 değerini yazdırmayacak)\n",
    "    \n",
    "    if x == 3:\n",
    "        break\n",
    "    print(x)"
   ]
  },
  {
   "cell_type": "markdown",
   "id": "c3c2101e",
   "metadata": {},
   "source": [
    "## continue\n",
    "- Bazen döngülerde belirli bir şart sağlandığında o adımın atlanmasını isteyebiliriz.\n",
    "- continue ile döngüden çıkılmaz, o adım atlanır. Bir sonraki iterasyona geçilir.\n"
   ]
  },
  {
   "cell_type": "code",
   "execution_count": 12,
   "id": "77ea49bd",
   "metadata": {},
   "outputs": [
    {
     "name": "stdout",
     "output_type": "stream",
     "text": [
      "0\n",
      "1\n",
      "2\n",
      "4\n",
      "5\n"
     ]
    }
   ],
   "source": [
    "for i in range(6):\n",
    "    if i == 3:\n",
    "        continue\n",
    "    print(i)"
   ]
  },
  {
   "cell_type": "code",
   "execution_count": 15,
   "id": "cfacc399",
   "metadata": {},
   "outputs": [
    {
     "name": "stdout",
     "output_type": "stream",
     "text": [
      "1\n",
      "2\n",
      "4\n",
      "5\n"
     ]
    }
   ],
   "source": [
    "x = 0\n",
    "\n",
    "while x < 5:\n",
    "    x += 1\n",
    "    if x == 3:\n",
    "        continue\n",
    "    print(x)"
   ]
  }
 ],
 "metadata": {
  "kernelspec": {
   "display_name": "Python 3 (ipykernel)",
   "language": "python",
   "name": "python3"
  },
  "language_info": {
   "codemirror_mode": {
    "name": "ipython",
    "version": 3
   },
   "file_extension": ".py",
   "mimetype": "text/x-python",
   "name": "python",
   "nbconvert_exporter": "python",
   "pygments_lexer": "ipython3",
   "version": "3.11.5"
  }
 },
 "nbformat": 4,
 "nbformat_minor": 5
}
