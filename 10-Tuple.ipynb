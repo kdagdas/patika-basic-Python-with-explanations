{
 "cells": [
  {
   "cell_type": "markdown",
   "id": "4a631a64",
   "metadata": {},
   "source": [
    "# Tuple\n",
    "- Listeler gibi birden fazla veriyi bir arada tutar.\n",
    "- Normal parantezler veya parantezsiz gösterilir.\n",
    "- Listelerden farklı olarak immutable yani elemanları değiştirilemez.\n",
    "- Indexing ve slicing vardır.\n",
    "- Mixtype elemanlar bulundurabilme ve nested tuple özellikleri vardır."
   ]
  },
  {
   "cell_type": "code",
   "execution_count": 1,
   "id": "1957f9b5",
   "metadata": {},
   "outputs": [
    {
     "data": {
      "text/plain": [
       "tuple"
      ]
     },
     "execution_count": 1,
     "metadata": {},
     "output_type": "execute_result"
    }
   ],
   "source": [
    "t = (1,2,3,4)\n",
    "tp = 1,2,3,4\n",
    "type(tp)"
   ]
  },
  {
   "cell_type": "markdown",
   "id": "a5d0cb2b",
   "metadata": {},
   "source": [
    "### Elemanların değerlerini değiştirmek\n",
    "* x ve y'nin değerlerini değiştirmek istiyorum diyelim"
   ]
  },
  {
   "cell_type": "code",
   "execution_count": 2,
   "id": "83b8332c",
   "metadata": {},
   "outputs": [],
   "source": [
    "x = 2\n",
    "y = 3"
   ]
  },
  {
   "cell_type": "code",
   "execution_count": 3,
   "id": "77e5b075",
   "metadata": {},
   "outputs": [
    {
     "name": "stdout",
     "output_type": "stream",
     "text": [
      "3 2\n"
     ]
    }
   ],
   "source": [
    "temp = x\n",
    "x = y\n",
    "y = temp\n",
    "print(x, y)"
   ]
  },
  {
   "cell_type": "markdown",
   "id": "d71d54f7",
   "metadata": {},
   "source": [
    "* Bunu tuple ile bir satırda yapabiliriz."
   ]
  },
  {
   "cell_type": "code",
   "execution_count": 6,
   "id": "8aeea38b",
   "metadata": {},
   "outputs": [
    {
     "name": "stdout",
     "output_type": "stream",
     "text": [
      "10 5\n"
     ]
    }
   ],
   "source": [
    "a = 5\n",
    "b = 10\n",
    "a, b = b, a # tuple için parantez koymama gerek yok\n",
    "print(a, b)"
   ]
  },
  {
   "cell_type": "markdown",
   "id": "b0626bab",
   "metadata": {},
   "source": [
    "### Tuple veya List'lerde eleman kontrolü:\n",
    "- **in** ile eleman kontrolü yapılır.\n",
    "- Eleman varsa True, yoksa False döndürür."
   ]
  },
  {
   "cell_type": "code",
   "execution_count": 9,
   "id": "4786fc79",
   "metadata": {},
   "outputs": [],
   "source": [
    "l = [1,2,3,4]"
   ]
  },
  {
   "cell_type": "code",
   "execution_count": 10,
   "id": "b1baa7d3",
   "metadata": {},
   "outputs": [
    {
     "data": {
      "text/plain": [
       "False"
      ]
     },
     "execution_count": 10,
     "metadata": {},
     "output_type": "execute_result"
    }
   ],
   "source": [
    "40 in l"
   ]
  },
  {
   "cell_type": "code",
   "execution_count": 11,
   "id": "25758d2b",
   "metadata": {},
   "outputs": [
    {
     "data": {
      "text/plain": [
       "True"
      ]
     },
     "execution_count": 11,
     "metadata": {},
     "output_type": "execute_result"
    }
   ],
   "source": [
    "2 in l"
   ]
  },
  {
   "cell_type": "code",
   "execution_count": 12,
   "id": "a2c30b79",
   "metadata": {},
   "outputs": [],
   "source": [
    "t = 1, 2, 3, 4"
   ]
  },
  {
   "cell_type": "code",
   "execution_count": 13,
   "id": "75e43f40",
   "metadata": {},
   "outputs": [
    {
     "data": {
      "text/plain": [
       "True"
      ]
     },
     "execution_count": 13,
     "metadata": {},
     "output_type": "execute_result"
    }
   ],
   "source": [
    "2 in t"
   ]
  },
  {
   "cell_type": "code",
   "execution_count": null,
   "id": "276a2c3c",
   "metadata": {},
   "outputs": [],
   "source": []
  }
 ],
 "metadata": {
  "kernelspec": {
   "display_name": "Python 3 (ipykernel)",
   "language": "python",
   "name": "python3"
  },
  "language_info": {
   "codemirror_mode": {
    "name": "ipython",
    "version": 3
   },
   "file_extension": ".py",
   "mimetype": "text/x-python",
   "name": "python",
   "nbconvert_exporter": "python",
   "pygments_lexer": "ipython3",
   "version": "3.11.5"
  }
 },
 "nbformat": 4,
 "nbformat_minor": 5
}
