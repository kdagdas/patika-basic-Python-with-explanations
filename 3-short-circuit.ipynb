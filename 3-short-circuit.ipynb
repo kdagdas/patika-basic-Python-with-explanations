{
 "cells": [
  {
   "cell_type": "markdown",
   "id": "c57853b0",
   "metadata": {},
   "source": [
    "## Short Circuit\n",
    "- and operatörü için soldaki kısım eğer False ise sağdaki kısma bakmaz ve False değeri verir.\n",
    "- or operatörü için her iki taraf da True değeri veriyorsa True olarak bir çıktı alırız. Eğer sol taraf False değer üretiyorsa sağ tarafa geçilir ve işlem devam eder."
   ]
  },
  {
   "cell_type": "code",
   "execution_count": 1,
   "id": "ce0179a9",
   "metadata": {},
   "outputs": [
    {
     "data": {
      "text/plain": [
       "False"
      ]
     },
     "execution_count": 1,
     "metadata": {},
     "output_type": "execute_result"
    }
   ],
   "source": [
    "(5<3) and print('hey')"
   ]
  },
  {
   "cell_type": "code",
   "execution_count": 2,
   "id": "8fa7d71a",
   "metadata": {},
   "outputs": [
    {
     "data": {
      "text/plain": [
       "True"
      ]
     },
     "execution_count": 2,
     "metadata": {},
     "output_type": "execute_result"
    }
   ],
   "source": [
    "(5>3) or print('hey')"
   ]
  },
  {
   "cell_type": "code",
   "execution_count": 4,
   "id": "ca753cdf",
   "metadata": {},
   "outputs": [
    {
     "name": "stdout",
     "output_type": "stream",
     "text": [
      "hey\n"
     ]
    }
   ],
   "source": [
    "(5<3) or print('hey')"
   ]
  },
  {
   "cell_type": "code",
   "execution_count": 5,
   "id": "91d7c5c8",
   "metadata": {},
   "outputs": [
    {
     "name": "stdout",
     "output_type": "stream",
     "text": [
      "hey\n"
     ]
    }
   ],
   "source": [
    "(5>3) and print('hey')"
   ]
  },
  {
   "cell_type": "markdown",
   "id": "67d24799",
   "metadata": {},
   "source": [
    "## &\n",
    "* and'in yaptığını yapar ancak short circuit mantığında çalışmaz."
   ]
  },
  {
   "cell_type": "code",
   "execution_count": 6,
   "id": "44caa9af",
   "metadata": {},
   "outputs": [
    {
     "data": {
      "text/plain": [
       "True"
      ]
     },
     "execution_count": 6,
     "metadata": {},
     "output_type": "execute_result"
    }
   ],
   "source": [
    "(2 == 2) & (3 == 3)"
   ]
  },
  {
   "cell_type": "markdown",
   "id": "e398ab27",
   "metadata": {},
   "source": [
    "* and operatörü boolean ile noneType bir veriyi karşılaştırırken hata vermezken **&** hata veriyor."
   ]
  },
  {
   "cell_type": "code",
   "execution_count": 7,
   "id": "f8431844",
   "metadata": {},
   "outputs": [
    {
     "name": "stdout",
     "output_type": "stream",
     "text": [
      "hey\n"
     ]
    },
    {
     "ename": "TypeError",
     "evalue": "unsupported operand type(s) for &: 'bool' and 'NoneType'",
     "output_type": "error",
     "traceback": [
      "\u001b[1;31m---------------------------------------------------------------------------\u001b[0m",
      "\u001b[1;31mTypeError\u001b[0m                                 Traceback (most recent call last)",
      "Cell \u001b[1;32mIn[7], line 1\u001b[0m\n\u001b[1;32m----> 1\u001b[0m (\u001b[38;5;241m5\u001b[39m \u001b[38;5;241m<\u001b[39m \u001b[38;5;241m3\u001b[39m) \u001b[38;5;241m&\u001b[39m \u001b[38;5;28mprint\u001b[39m(\u001b[38;5;124m'\u001b[39m\u001b[38;5;124mhey\u001b[39m\u001b[38;5;124m'\u001b[39m)\n",
      "\u001b[1;31mTypeError\u001b[0m: unsupported operand type(s) for &: 'bool' and 'NoneType'"
     ]
    }
   ],
   "source": [
    "(5 < 3) & print('hey')"
   ]
  },
  {
   "cell_type": "markdown",
   "id": "71626fc2",
   "metadata": {},
   "source": [
    "## |\n",
    "* **|**'da or'un yaptığını yapar ancak short-circuit mantığında çalışmaz.\n",
    "* **|** yine **&** benzer şekilde boolean veri ile noneType veriyi karşılaştıramaz."
   ]
  },
  {
   "cell_type": "code",
   "execution_count": 8,
   "id": "0dd55a40",
   "metadata": {},
   "outputs": [
    {
     "data": {
      "text/plain": [
       "True"
      ]
     },
     "execution_count": 8,
     "metadata": {},
     "output_type": "execute_result"
    }
   ],
   "source": [
    "(2 == 2) | (3 < 3)"
   ]
  },
  {
   "cell_type": "code",
   "execution_count": 9,
   "id": "60b78547",
   "metadata": {},
   "outputs": [
    {
     "data": {
      "text/plain": [
       "True"
      ]
     },
     "execution_count": 9,
     "metadata": {},
     "output_type": "execute_result"
    }
   ],
   "source": [
    "(5 > 3) or print('hey')"
   ]
  },
  {
   "cell_type": "code",
   "execution_count": 10,
   "id": "5ff06d25",
   "metadata": {},
   "outputs": [
    {
     "name": "stdout",
     "output_type": "stream",
     "text": [
      "hey\n"
     ]
    },
    {
     "ename": "TypeError",
     "evalue": "unsupported operand type(s) for |: 'bool' and 'NoneType'",
     "output_type": "error",
     "traceback": [
      "\u001b[1;31m---------------------------------------------------------------------------\u001b[0m",
      "\u001b[1;31mTypeError\u001b[0m                                 Traceback (most recent call last)",
      "Cell \u001b[1;32mIn[10], line 1\u001b[0m\n\u001b[1;32m----> 1\u001b[0m (\u001b[38;5;241m5\u001b[39m \u001b[38;5;241m>\u001b[39m \u001b[38;5;241m3\u001b[39m) \u001b[38;5;241m|\u001b[39m \u001b[38;5;28mprint\u001b[39m(\u001b[38;5;124m'\u001b[39m\u001b[38;5;124mhey\u001b[39m\u001b[38;5;124m'\u001b[39m)\n",
      "\u001b[1;31mTypeError\u001b[0m: unsupported operand type(s) for |: 'bool' and 'NoneType'"
     ]
    }
   ],
   "source": [
    "(5 > 3) | print('hey')"
   ]
  }
 ],
 "metadata": {
  "kernelspec": {
   "display_name": "Python 3 (ipykernel)",
   "language": "python",
   "name": "python3"
  },
  "language_info": {
   "codemirror_mode": {
    "name": "ipython",
    "version": 3
   },
   "file_extension": ".py",
   "mimetype": "text/x-python",
   "name": "python",
   "nbconvert_exporter": "python",
   "pygments_lexer": "ipython3",
   "version": "3.11.5"
  }
 },
 "nbformat": 4,
 "nbformat_minor": 5
}
