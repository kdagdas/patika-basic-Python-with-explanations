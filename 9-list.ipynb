{
 "cells": [
  {
   "cell_type": "markdown",
   "id": "cdf88d99",
   "metadata": {},
   "source": [
    "## List\n",
    "- Birden çok veriyi bir arada tutmamıza yarayan veri tipleridir.\n",
    "- Listeler köşeli parantezlerle ifade edilirler.\n",
    "- Elemanlar arasında virgül vardır.\n"
   ]
  },
  {
   "cell_type": "code",
   "execution_count": 1,
   "id": "b7eeb94f",
   "metadata": {},
   "outputs": [],
   "source": [
    "notlar = [70, 75, 90, 85]"
   ]
  },
  {
   "cell_type": "markdown",
   "id": "6a74d26e",
   "metadata": {},
   "source": [
    "* Listelerde indeksler vardır, 0'dan başlar."
   ]
  },
  {
   "cell_type": "code",
   "execution_count": 2,
   "id": "bcf441a8",
   "metadata": {},
   "outputs": [
    {
     "data": {
      "text/plain": [
       "75"
      ]
     },
     "execution_count": 2,
     "metadata": {},
     "output_type": "execute_result"
    }
   ],
   "source": [
    "notlar[1]"
   ]
  },
  {
   "cell_type": "markdown",
   "id": "6b5725dd",
   "metadata": {},
   "source": [
    "- Listelerin içinde farklı veri tipleri olabilir.\n",
    "- Listelerin içinde farklı listeler de olabilir.\n",
    "- Bütün bu veri tipleri aynı anda bir liste içinde de olabilir."
   ]
  },
  {
   "cell_type": "code",
   "execution_count": 3,
   "id": "567cd299",
   "metadata": {},
   "outputs": [
    {
     "data": {
      "text/plain": [
       "[1, 2, 3, 'a', 'b', True, 4.5, [1, 2, 3]]"
      ]
     },
     "execution_count": 3,
     "metadata": {},
     "output_type": "execute_result"
    }
   ],
   "source": [
    "l = [1,2,3,\"a\",\"b\",True,4.5,[1,2,3]]\n",
    "l"
   ]
  },
  {
   "cell_type": "markdown",
   "id": "4a58fa46",
   "metadata": {},
   "source": [
    "## Indexing ve Slicing\n",
    "- Str ifadelerde olan her bir işlemi listeler üzerinde de uygulayabilirim.\n",
    "- Str ifadelerden farklı olarak listler \"mutable\" yani elemanları değiştirilebilir veri yapılarıdır."
   ]
  },
  {
   "cell_type": "code",
   "execution_count": 4,
   "id": "f555edf4",
   "metadata": {},
   "outputs": [
    {
     "data": {
      "text/plain": [
       "[70, 80, 90, 85]"
      ]
     },
     "execution_count": 4,
     "metadata": {},
     "output_type": "execute_result"
    }
   ],
   "source": [
    "notlar[1] = 80\n",
    "notlar"
   ]
  },
  {
   "cell_type": "code",
   "execution_count": 5,
   "id": "c60f10e9",
   "metadata": {},
   "outputs": [
    {
     "data": {
      "text/plain": [
       "[1, 20, 30, 40, 5]"
      ]
     },
     "execution_count": 5,
     "metadata": {},
     "output_type": "execute_result"
    }
   ],
   "source": [
    "# birden fazla elemanı da değiştirebilirim:\n",
    "l = [1, 2, 3, 4, 5]\n",
    "l[1:4] = 20, 30, 40\n",
    "l"
   ]
  },
  {
   "cell_type": "code",
   "execution_count": 6,
   "id": "11336099",
   "metadata": {},
   "outputs": [
    {
     "data": {
      "text/plain": [
       "[1, 40, 60, 5]"
      ]
     },
     "execution_count": 6,
     "metadata": {},
     "output_type": "execute_result"
    }
   ],
   "source": [
    "# eleman sayısı aynı olmak zorunda da değil\n",
    "# 3'lü yapıyı 2'li yapıyla değiştirebilirim.\n",
    "l[1:4] = 40,60\n",
    "l"
   ]
  },
  {
   "cell_type": "code",
   "execution_count": 7,
   "id": "390589ec",
   "metadata": {},
   "outputs": [
    {
     "data": {
      "text/plain": [
       "[30, 5]"
      ]
     },
     "execution_count": 7,
     "metadata": {},
     "output_type": "execute_result"
    }
   ],
   "source": [
    "# slicing sonucunda tek bir değer veremeyiz (iterable olmadığı için)\n",
    "# bunun yerine tek elemanlı bir list verebiliriz.\n",
    "l[0:3] = [30]\n",
    "l"
   ]
  },
  {
   "cell_type": "markdown",
   "id": "633770ce",
   "metadata": {},
   "source": [
    "## len()\n",
    "- listenin kaç elemanlı olduğunu veren metottur."
   ]
  },
  {
   "cell_type": "code",
   "execution_count": 8,
   "id": "c61a3530",
   "metadata": {},
   "outputs": [
    {
     "data": {
      "text/plain": [
       "5"
      ]
     },
     "execution_count": 8,
     "metadata": {},
     "output_type": "execute_result"
    }
   ],
   "source": [
    "list = [1,2,3,4,5]\n",
    "len(list)"
   ]
  },
  {
   "cell_type": "markdown",
   "id": "50d0d8ce",
   "metadata": {},
   "source": [
    "## append()\n",
    "- içine yazılan elemanı listenin sonuna ekler."
   ]
  },
  {
   "cell_type": "code",
   "execution_count": 9,
   "id": "00d3ea7a",
   "metadata": {},
   "outputs": [
    {
     "data": {
      "text/plain": [
       "[1, 2, 3, 4, 5, 6]"
      ]
     },
     "execution_count": 9,
     "metadata": {},
     "output_type": "execute_result"
    }
   ],
   "source": [
    "list.append(6)\n",
    "list"
   ]
  },
  {
   "cell_type": "markdown",
   "id": "200dcc4a",
   "metadata": {},
   "source": [
    "## extend()\n",
    "- listelerin sonuna birden fazla elemanı eklemeyi sağlayan metottur.\n",
    "- aslında başka bir listenin elemanlarını eklemeyi sağlar\n",
    "- bu yüzden liste elemanı şeklinde veya eklemek istediğimiz elemanların olduğu başka bir listeyi önceden oluşturup eklemek gerekir."
   ]
  },
  {
   "cell_type": "code",
   "execution_count": 10,
   "id": "dba18482",
   "metadata": {},
   "outputs": [
    {
     "data": {
      "text/plain": [
       "[1, 2, 3, 4, 5, 6, 7, 8, 9]"
      ]
     },
     "execution_count": 10,
     "metadata": {},
     "output_type": "execute_result"
    }
   ],
   "source": [
    "list.extend([7,8,9])\n",
    "list"
   ]
  },
  {
   "cell_type": "code",
   "execution_count": 11,
   "id": "8c5d8b14",
   "metadata": {},
   "outputs": [
    {
     "data": {
      "text/plain": [
       "[1, 2, 3, 4, 5, 6, 7, 8, 9, 10, 11, 12]"
      ]
     },
     "execution_count": 11,
     "metadata": {},
     "output_type": "execute_result"
    }
   ],
   "source": [
    "eklemek_istedigim_list = [10, 11, 12]\n",
    "list.extend(eklemek_istedigim_list)\n",
    "list"
   ]
  },
  {
   "cell_type": "markdown",
   "id": "a14c6ab2",
   "metadata": {},
   "source": [
    "## insert()\n",
    "- spesifik bir indekse eleman eklemek için kullanılır\n",
    "- insert(index_no, eklenecek_eleman)"
   ]
  },
  {
   "cell_type": "code",
   "execution_count": 12,
   "id": "e4aeb099",
   "metadata": {},
   "outputs": [
    {
     "data": {
      "text/plain": [
       "[0, 1, 2, 3, 4, 5, 6, 7, 8, 9, 10, 11, 12]"
      ]
     },
     "execution_count": 12,
     "metadata": {},
     "output_type": "execute_result"
    }
   ],
   "source": [
    "list.insert(0, 0)\n",
    "list"
   ]
  },
  {
   "cell_type": "markdown",
   "id": "1fa275c0",
   "metadata": {},
   "source": [
    "## remove()\n",
    "- belirli bir elemanı listeden silmeyi sağlar.\n",
    "- eğer yazılan eleman listede yoksa hata verir.\n",
    "- remove() sadece ilk gördüğü değeri siler, birden fazla aynı eleman varsa diğerleri kalır."
   ]
  },
  {
   "cell_type": "code",
   "execution_count": 13,
   "id": "8ece6aaf",
   "metadata": {},
   "outputs": [
    {
     "data": {
      "text/plain": [
       "[1, 2, 3, 4, 5, 6, 7, 8, 9, 10, 11, 12]"
      ]
     },
     "execution_count": 13,
     "metadata": {},
     "output_type": "execute_result"
    }
   ],
   "source": [
    "list.remove(0)\n",
    "list"
   ]
  },
  {
   "cell_type": "markdown",
   "id": "42cc1d17",
   "metadata": {},
   "source": [
    "## pop()\n",
    "- belirli indexteki elemanı sildikten sonra bir de o değeri döner.\n",
    "- Bu sayede pop metodu ile işlemler de yapabiliriz."
   ]
  },
  {
   "cell_type": "code",
   "execution_count": 14,
   "id": "6af14d94",
   "metadata": {},
   "outputs": [
    {
     "data": {
      "text/plain": [
       "27"
      ]
     },
     "execution_count": 14,
     "metadata": {},
     "output_type": "execute_result"
    }
   ],
   "source": [
    "list.pop(2)**3 # 2. indekste 3 olduğu için 3'ün küpünü aldı"
   ]
  },
  {
   "cell_type": "code",
   "execution_count": 15,
   "id": "f6d78cd5",
   "metadata": {},
   "outputs": [
    {
     "data": {
      "text/plain": [
       "[1, 2, 4, 5, 6, 7, 8, 9, 10, 11, 12]"
      ]
     },
     "execution_count": 15,
     "metadata": {},
     "output_type": "execute_result"
    }
   ],
   "source": [
    "list # 2. indeksteki elemanı sildiği için listemizde artık 3 yok"
   ]
  },
  {
   "cell_type": "markdown",
   "id": "f29a7285",
   "metadata": {},
   "source": [
    "## count()\n",
    "- belirli bir elemanın liste içinde kaç defa görüldüğünü söyler."
   ]
  },
  {
   "cell_type": "code",
   "execution_count": 16,
   "id": "1fa9a9d3",
   "metadata": {},
   "outputs": [
    {
     "data": {
      "text/plain": [
       "1"
      ]
     },
     "execution_count": 16,
     "metadata": {},
     "output_type": "execute_result"
    }
   ],
   "source": [
    "list.count(2)"
   ]
  },
  {
   "cell_type": "code",
   "execution_count": 17,
   "id": "7c7fc2cf",
   "metadata": {},
   "outputs": [
    {
     "data": {
      "text/plain": [
       "0"
      ]
     },
     "execution_count": 17,
     "metadata": {},
     "output_type": "execute_result"
    }
   ],
   "source": [
    "list.count(3)"
   ]
  },
  {
   "cell_type": "markdown",
   "id": "d1fc8483",
   "metadata": {},
   "source": [
    "## Aliasing\n",
    "- a = 2 şeklinde bir değişken tanımlayalım\n",
    "- b = a işlemiyle b'nin a'daki değeri alması sağlanır.\n",
    "- daha sonra a'yı güncellersek b güncellenmez."
   ]
  },
  {
   "cell_type": "code",
   "execution_count": 18,
   "id": "69b123f7",
   "metadata": {},
   "outputs": [
    {
     "name": "stdout",
     "output_type": "stream",
     "text": [
      "2\n",
      "2\n"
     ]
    }
   ],
   "source": [
    "a = 2\n",
    "b = a \n",
    "print(b)\n",
    "print(a)"
   ]
  },
  {
   "cell_type": "code",
   "execution_count": 19,
   "id": "90d313b5",
   "metadata": {},
   "outputs": [
    {
     "name": "stdout",
     "output_type": "stream",
     "text": [
      "2\n",
      "3\n"
     ]
    }
   ],
   "source": [
    "a = 3\n",
    "print(b)\n",
    "print(a)"
   ]
  },
  {
   "cell_type": "markdown",
   "id": "a38060b9",
   "metadata": {},
   "source": [
    "- listeler birbiri içindeki güncelemelerden etkilenirler"
   ]
  },
  {
   "cell_type": "code",
   "execution_count": 20,
   "id": "f95ff16f",
   "metadata": {},
   "outputs": [
    {
     "name": "stdout",
     "output_type": "stream",
     "text": [
      "[1, 2, 3, 4]\n",
      "[1, 2, 3, 4]\n",
      "[1, 2, 3, 4, 5, 6, 7]\n",
      "[1, 2, 3, 4, 5, 6, 7]\n"
     ]
    }
   ],
   "source": [
    "list1 = [1, 2, 3, 4]\n",
    "list2 = list1\n",
    "print(list1)\n",
    "print(list2)\n",
    "\n",
    "list1.extend([5,6,7])\n",
    "print(list1)\n",
    "print(list2)"
   ]
  },
  {
   "cell_type": "markdown",
   "id": "94ec0437",
   "metadata": {},
   "source": [
    "## copy()\n",
    "- bu metot ile listelerdeki elemanları kopyalayabiliriz\n",
    "- böylece birbiri içindeki güncellemelerden etkilenmez"
   ]
  },
  {
   "cell_type": "code",
   "execution_count": 21,
   "id": "8c375d4a",
   "metadata": {},
   "outputs": [
    {
     "name": "stdout",
     "output_type": "stream",
     "text": [
      "[4, 5, 6, 7]\n",
      "[1, 2, 3, 4, 5, 6, 7]\n"
     ]
    }
   ],
   "source": [
    "list3 = list1.copy()\n",
    "list1[0:3] = []\n",
    "print(list1)\n",
    "print(list3)"
   ]
  },
  {
   "cell_type": "markdown",
   "id": "3005ee64",
   "metadata": {},
   "source": [
    "### listelerde concatenation (birleştirme)\n",
    "- extend() metodu dışında + operatörü ile de birleştirme yapılabilir"
   ]
  },
  {
   "cell_type": "code",
   "execution_count": 22,
   "id": "23f14696",
   "metadata": {},
   "outputs": [
    {
     "name": "stdout",
     "output_type": "stream",
     "text": [
      "[1, 2, 3, 4, 5, 6]\n"
     ]
    }
   ],
   "source": [
    "l1 = [1,2,3]\n",
    "l2 = [4,5,6]\n",
    "print(l1 + l2)"
   ]
  },
  {
   "cell_type": "code",
   "execution_count": 23,
   "id": "e3fc9e79",
   "metadata": {
    "scrolled": true
   },
   "outputs": [
    {
     "data": {
      "text/plain": [
       "[1, 2, 3, 4, 5, 6]"
      ]
     },
     "execution_count": 23,
     "metadata": {},
     "output_type": "execute_result"
    }
   ],
   "source": [
    "l3 = l1 + l2\n",
    "l3"
   ]
  },
  {
   "cell_type": "markdown",
   "id": "a27b1e77",
   "metadata": {},
   "source": [
    "## index()\n",
    "- Belirli bir elemanın indeksini bulmak için kullanılır.\n",
    "- İlk gördüğü elemanın indeksini verir, birden fazla bulunuyorsa ikincisini vermez\n",
    "- Bulunmayan eleman için hata verir"
   ]
  },
  {
   "cell_type": "code",
   "execution_count": 24,
   "id": "831b8e1c",
   "metadata": {},
   "outputs": [
    {
     "data": {
      "text/plain": [
       "2"
      ]
     },
     "execution_count": 24,
     "metadata": {},
     "output_type": "execute_result"
    }
   ],
   "source": [
    "l1.index(3)"
   ]
  },
  {
   "cell_type": "markdown",
   "id": "1112ea7c",
   "metadata": {},
   "source": [
    "## reverse()\n",
    "- listeyi tersine çevirir.\n",
    "- inplace'tir yani orijinal listeyi bozar\n",
    "- aynı şeyi slicing mantığı ile adımları tersine çalıştırarak da yapabiliriz ancak orijinal listeyi bozmaz."
   ]
  },
  {
   "cell_type": "code",
   "execution_count": 25,
   "id": "d06e3edd",
   "metadata": {},
   "outputs": [
    {
     "data": {
      "text/plain": [
       "[5, 4, 3, 2, 1]"
      ]
     },
     "execution_count": 25,
     "metadata": {},
     "output_type": "execute_result"
    }
   ],
   "source": [
    "l = [1,2,3,4,5]\n",
    "l.reverse()\n",
    "l"
   ]
  },
  {
   "cell_type": "markdown",
   "id": "8a38cf63",
   "metadata": {},
   "source": [
    "# Listelerde Sıralama\n",
    "- sayısal değerlerde büyüklük küçüklük, harflerde a'dan z'ye sıralama dikkate alınır."
   ]
  },
  {
   "cell_type": "code",
   "execution_count": 26,
   "id": "896a55cf",
   "metadata": {},
   "outputs": [],
   "source": [
    "l = [\"b\", \"a\", \"c\"]"
   ]
  },
  {
   "cell_type": "code",
   "execution_count": 27,
   "id": "f7e54d9e",
   "metadata": {},
   "outputs": [
    {
     "data": {
      "text/plain": [
       "['a', 'b', 'c']"
      ]
     },
     "execution_count": 27,
     "metadata": {},
     "output_type": "execute_result"
    }
   ],
   "source": [
    "sorted(l) #inplace değildir, listeyi güncellemez."
   ]
  },
  {
   "cell_type": "code",
   "execution_count": 28,
   "id": "8ec35ba8",
   "metadata": {},
   "outputs": [
    {
     "data": {
      "text/plain": [
       "['a', 'b', 'c']"
      ]
     },
     "execution_count": 28,
     "metadata": {},
     "output_type": "execute_result"
    }
   ],
   "source": [
    "l.sort() #inplace'tir\n",
    "l"
   ]
  }
 ],
 "metadata": {
  "kernelspec": {
   "display_name": "Python 3 (ipykernel)",
   "language": "python",
   "name": "python3"
  },
  "language_info": {
   "codemirror_mode": {
    "name": "ipython",
    "version": 3
   },
   "file_extension": ".py",
   "mimetype": "text/x-python",
   "name": "python",
   "nbconvert_exporter": "python",
   "pygments_lexer": "ipython3",
   "version": "3.11.5"
  }
 },
 "nbformat": 4,
 "nbformat_minor": 5
}
