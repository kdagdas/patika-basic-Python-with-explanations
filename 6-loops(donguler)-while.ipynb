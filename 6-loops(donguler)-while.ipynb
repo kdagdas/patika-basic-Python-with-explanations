{
 "cells": [
  {
   "cell_type": "markdown",
   "id": "66e0420c",
   "metadata": {},
   "source": [
    "### While\n",
    "* **if** bloğuna benzer şekilde bir test aşaması vardır.\n",
    "* testen doğru geldiği sürece while döngüsü dönmeye devam eder\n",
    "\n",
    "- Kullanıcıdan pozitif sayı istediğimiz bir while döngüsü yapalım.\n",
    "- Kullanıcı negatif sayı girdikçe yeniden istesin."
   ]
  },
  {
   "cell_type": "code",
   "execution_count": 1,
   "id": "05c9976a",
   "metadata": {},
   "outputs": [
    {
     "name": "stdout",
     "output_type": "stream",
     "text": [
      "Bir sayı giriniz: 0\n",
      "Sayı negatif veya 0, lütfen pozitif bir sayı giriniz!\n",
      "Bir sayı giriniz: -3\n",
      "Sayı negatif veya 0, lütfen pozitif bir sayı giriniz!\n",
      "Bir sayı giriniz: 3\n",
      "Girdiğiniz sayı pozitif ve 3\n"
     ]
    }
   ],
   "source": [
    "x = int(input(\"Bir sayı giriniz: \"))\n",
    "\n",
    "while x <= 0:\n",
    "    print(\"Sayı negatif veya 0, lütfen pozitif bir sayı giriniz!\")\n",
    "    x = int(input(\"Bir sayı giriniz: \"))\n",
    "\n",
    "print(\"Girdiğiniz sayı pozitif ve\", x)"
   ]
  },
  {
   "cell_type": "markdown",
   "id": "6efd828d",
   "metadata": {},
   "source": [
    "* Belirli bir sayıya kadar olan sayıları yazdırmak için de while döngüsünü kullanabiliriz."
   ]
  },
  {
   "cell_type": "code",
   "execution_count": 2,
   "id": "fc7491b7",
   "metadata": {},
   "outputs": [
    {
     "name": "stdout",
     "output_type": "stream",
     "text": [
      "0\n",
      "1\n",
      "2\n"
     ]
    }
   ],
   "source": [
    "x = 0\n",
    "\n",
    "while x < 3:\n",
    "    print(x)\n",
    "    x = x + 1"
   ]
  },
  {
   "cell_type": "markdown",
   "id": "f5ca72a9",
   "metadata": {},
   "source": [
    "* 0'dan 100'e kadar olan sayıları toplayalım:"
   ]
  },
  {
   "cell_type": "code",
   "execution_count": 4,
   "id": "0933326e",
   "metadata": {},
   "outputs": [
    {
     "name": "stdout",
     "output_type": "stream",
     "text": [
      "5050\n"
     ]
    }
   ],
   "source": [
    "toplam = 0\n",
    "x = 0\n",
    "\n",
    "while x <= 100:\n",
    "    toplam += x\n",
    "    x += 1\n",
    "\n",
    "print(toplam)"
   ]
  },
  {
   "cell_type": "code",
   "execution_count": null,
   "id": "dbd5df34",
   "metadata": {},
   "outputs": [],
   "source": []
  }
 ],
 "metadata": {
  "kernelspec": {
   "display_name": "Python 3 (ipykernel)",
   "language": "python",
   "name": "python3"
  },
  "language_info": {
   "codemirror_mode": {
    "name": "ipython",
    "version": 3
   },
   "file_extension": ".py",
   "mimetype": "text/x-python",
   "name": "python",
   "nbconvert_exporter": "python",
   "pygments_lexer": "ipython3",
   "version": "3.11.5"
  }
 },
 "nbformat": 4,
 "nbformat_minor": 5
}
